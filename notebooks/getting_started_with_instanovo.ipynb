{
 "cells": [
  {
   "attachments": {},
   "cell_type": "markdown",
   "id": "2f77bd43-f74e-4e80-b51a-b9e619d2ba11",
   "metadata": {
    "id": "2f77bd43-f74e-4e80-b51a-b9e619d2ba11",
    "tags": []
   },
   "source": [
    "# Getting started with InstaNovo\n",
    "\n",
    "<a target=\"_blank\" href=\"https://colab.research.google.com/github/instadeepai/InstaNovo/blob/main/notebooks/getting_started_with_instanovo.ipynb\">\n",
    "  <img src=\"https://colab.research.google.com/assets/colab-badge.svg\" alt=\"Open In Colab\"/>\n",
    "</a>\n",
    "\n",
    "In this notebook, we demo InstaNovo, a transformer neural network with the ability to translate fragment ion peaks into the sequence of amino acids that make up the studied peptide(s). We evaluate the model on the yeast test fold of nine-species dataset."
   ]
  },
  {
   "attachments": {},
   "cell_type": "markdown",
   "id": "v4Rk9kj1NiMU",
   "metadata": {
    "id": "v4Rk9kj1NiMU"
   },
   "source": [
    "![](https://raw.githubusercontent.com/instadeepai/InstaNovo/main/graphical_abstract.jpeg)"
   ]
  },
  {
   "attachments": {},
   "cell_type": "markdown",
   "id": "VwB6HeU1Ngxk",
   "metadata": {
    "id": "VwB6HeU1Ngxk"
   },
   "source": [
    "**Paper:**\n",
    "\n",
    "- **De novo peptide sequencing with InstaNovo: Accurate, database-free peptide identification for large scale proteomics experiments** \\\n",
    "  Kevin Eloff, Konstantinos Kalogeropoulos, Oliver Morell, Amandla Mabona, Jakob Berg Jespersen, Wesley Williams, Sam van Beljouw, Marcin Skwark, Andreas Hougaard Laustsen, Stan J. J. Brouns, Anne Ljungars, Erwin M. Schoof, Jeroen Van Goey, Ulrich auf dem Keller, Karim Beguir, Nicolas Lopez Carranza, Timothy P. Jenkins \\\n",
    "  [bioRxiv](https://www.biorxiv.org/content/10.1101/2023.08.30.555055v1), [GitHub](https://github.com/instadeepai/InstaNovo)\n",
    "\n",
    "**Important:**\n",
    "\n",
    "It is highly recommended to run this notebook in an environment with access to a GPU. If you are running this notebook in Google Colab:\n",
    "\n",
    "- In the menu, go to `Runtime > Change Runtime Type > T4 GPU`"
   ]
  },
  {
   "attachments": {},
   "cell_type": "markdown",
   "id": "be4f1d34-df21-453f-b167-0ef935c85f00",
   "metadata": {
    "id": "be4f1d34-df21-453f-b167-0ef935c85f00"
   },
   "source": [
    "## Loading the InstaNovo model\n",
    "\n",
    "We first install the latest instanovo from PyPi\n",
    "\n",
    "_Note: this currently installs directly from GitHub, this will be updated in the next release._"
   ]
  },
  {
   "cell_type": "code",
   "execution_count": null,
   "id": "iA7lr2HPZs_O",
   "metadata": {
    "id": "iA7lr2HPZs_O"
   },
   "outputs": [],
   "source": [
    "\n",
    "!pip install instanovo"
   ]
  },
  {
   "cell_type": "code",
   "execution_count": null,
   "id": "cc618a03-d365-484d-a001-9b991141d1f5",
   "metadata": {
    "colab": {
     "base_uri": "https://localhost:8080/"
    },
    "id": "cc618a03-d365-484d-a001-9b991141d1f5",
    "outputId": "4676a7de-cb22-4cc4-8811-b6e9da92172a",
    "tags": []
   },
   "outputs": [],
   "source": [
    "from instanovo.transformer.model import InstaNovo\n",
    "\n",
    "from tqdm import tqdm\n",
    "import torch\n",
    "import os\n",
    "import numpy as np\n",
    "import pandas as pd"
   ]
  },
  {
   "attachments": {},
   "cell_type": "markdown",
   "id": "7QcyM4jKA9qL",
   "metadata": {
    "id": "7QcyM4jKA9qL"
   },
   "source": [
    "We can download the model checkpoint directly from the [InstaNovo releases](https://github.com/instadeepai/InstaNovo/releases)."
   ]
  },
  {
   "cell_type": "code",
   "execution_count": null,
   "id": "41427652-3ceb-4140-95b6-2b2c24365cd8",
   "metadata": {
    "colab": {
     "base_uri": "https://localhost:8080/"
    },
    "id": "41427652-3ceb-4140-95b6-2b2c24365cd8",
    "outputId": "163ec43f-2d5e-488c-a4b1-5e3d41574144",
    "tags": []
   },
   "outputs": [],
   "source": [
    "# Download checkpoint locally\n",
    "!mkdir checkpoints/\n",
    "!wget -nc https://github.com/instadeepai/InstaNovo/releases/download/0.1.4/instanovo_yeast.pt -P ./checkpoints/"
   ]
  },
  {
   "cell_type": "code",
   "execution_count": null,
   "id": "d8c02b31-e704-49cd-9dad-60a2f5b5cfa3",
   "metadata": {
    "colab": {
     "base_uri": "https://localhost:8080/",
     "height": 35
    },
    "id": "d8c02b31-e704-49cd-9dad-60a2f5b5cfa3",
    "outputId": "edce16ce-b370-4430-da76-07b41a1de3ff",
    "tags": []
   },
   "outputs": [],
   "source": [
    "device = \"cuda\" if torch.cuda.is_available() else \"cpu\"\n",
    "device"
   ]
  },
  {
   "attachments": {},
   "cell_type": "markdown",
   "id": "qu8dHXidBZeE",
   "metadata": {
    "id": "qu8dHXidBZeE"
   },
   "source": [
    "Loading the model..."
   ]
  },
  {
   "cell_type": "code",
   "execution_count": null,
   "id": "32eaf403-a1b8-4737-96ed-4931c5db44e6",
   "metadata": {
    "id": "32eaf403-a1b8-4737-96ed-4931c5db44e6",
    "tags": []
   },
   "outputs": [],
   "source": [
    "model, config = InstaNovo.load(\"./checkpoints/instanovo_yeast.pt\")\n",
    "model = model.to(device).eval()"
   ]
  },
  {
   "attachments": {},
   "cell_type": "markdown",
   "id": "bcdeeddb-6b91-4cd1-bb30-f72d97d809de",
   "metadata": {
    "id": "bcdeeddb-6b91-4cd1-bb30-f72d97d809de"
   },
   "source": [
    "## Loading the nine-species dataset\n",
    "Download the [yeast test fold of the nine-species dataset](https://huggingface.co/datasets/InstaDeepAI/instanovo_ninespecies_exclude_yeast) dataset from HuggingFace."
   ]
  },
  {
   "cell_type": "code",
   "execution_count": null,
   "id": "4822fd1e-65e3-4445-bf14-9c21eee354ec",
   "metadata": {
    "colab": {
     "base_uri": "https://localhost:8080/",
     "height": 337,
     "referenced_widgets": [
      "7f7113b576054b1eafdb02f7508523cf",
      "737dd054634542aaa9fca9d8967d26f3",
      "23daf5a3301040f3814f59791c607960",
      "872889d2721546df83f54f85002253fa",
      "049cb996277249c599f7f1e55affdffc",
      "ace3c1816324465cbb4bc3de58223778",
      "c3ddf77d43ac43db9bc1db2d4c84e526",
      "7441e94f150d4846bd6a8f59659c8243",
      "54b880194d624e8fb06aedde6b4828c6",
      "0368416021c74398b567341a31d0eb9c",
      "ceae250ec02a459bb56fb1b106ac66c5",
      "a4249fff2d984d22b04883dc1613bf89",
      "efad55cf31784ce99e6d60dbe5cf8be4",
      "7945da12d4a044fa9130aecd004bafeb",
      "7e63b98bcf7842b58ecd5e53352bc067",
      "c7106fdab1284b8d96ae20047c4cf7a4",
      "8f63d4d3bc3e4ff5a8a551056063da09",
      "99b719f7b29241d3b4409c6281143f2a",
      "dfada658139c442e8b87be24846adf55",
      "298734b0ae43410cb7b2906c9f3892b6",
      "f8937bf4105844ee9002ae89f0f53874",
      "4208ae4fa5384596a9484209df032df9",
      "b0c333cc86e045d992c13ac4a8cefcf6",
      "623e5ff171a745a4a0f71784702ac270",
      "62015d5001914c00bf59dfc0e8acfdd3",
      "1e908617c832455193d8742ab14d4937",
      "4820108fd6b748f69116d575834925a0",
      "e35700f5a91e490eaee3f2594c15fde3",
      "57046002cee34a6895931fe9621e51fc",
      "005ff9926eaa480aa4940dd7a49148fd",
      "d33afcc057664b0788de5fee9d9c5869",
      "00e3c5437e4c4c97aeff4e91a711d1ee",
      "930efda3095c4a85bff782599c596a77",
      "8627f372f8d44a02a2192cb6052f3d98",
      "84a6d7d437a043eca443f4d4455d96d8",
      "8f14c5d0213a4086b7a96007f415fdfd",
      "c1c8459599a846a4ac7921f88e236af7",
      "b66a19d316b442b9bb8ec7c5f631528f",
      "b9a5ed2701d048ccb9cf2de08b9f07f7",
      "fd88db8a82474f9faf4c336ebb59e89b",
      "28def77b97a24d709f40ae5800952228",
      "fa130f27d1f942b58426b56c594266ea",
      "27579b791c3d4113962f261d22766981",
      "7af3499995b14c42ba27df1439599940",
      "efab00afc0ac4626a0f671682fb7bfcb",
      "5a224981be6944fdbbe158fadb7f6b49",
      "322e2ac7463e4b01b2f99ecaa3302f3f",
      "b2d628e90bb54357a6b4123d294eac5c",
      "447f4c2f8c0d4738acfae6082b88a8ea",
      "d793ceb1a0d64360956f4d12a00b33ae",
      "7dd5d59e5e474a669bce61db71c4272e",
      "6edc55e4775546a78d10dccaa6d514c4",
      "3d3d02ede4c04b57b6b590c8e3998c2f",
      "5fb0acbbd1e74b81bfc9d6df66d38156",
      "166d6dffb9ef4b4ca7766461134d44e6",
      "30de9ba75cf44e348f5f378d56e6231b",
      "b18ff590764d47c990c9c87be23ea27c",
      "2d43265f69c64f9fb25599b64a9ab32c",
      "cb27721cd04d426ca1f0a021bb7e1b8f",
      "54ed9819d8b24891a9020b64b67d0a11",
      "1d49bcef8238482982e16044ad0a6c41",
      "525dbd1f87d14b06bdb88128fae4720d",
      "952417b32f0c4a5e8f41da79d20a604a",
      "046b3fa64a994dedb7626b327490737d",
      "755cd5b7ac4c4fcfad7024bdaee38f4a",
      "80f2bf6b18e34fb2a3f283767aa3178a",
      "46a8367608a145959c469e0de21a5dd0",
      "d8f2461e51b24ce581aa196239df0042",
      "8b741ecb51f44d1ebc592c5b948d1562",
      "fe9cba68e32c40979293db7c164caf92",
      "98ad3eabd0bb4747bc64a9d07d97567a",
      "fe416908c42b49f7b8c470f6f8f83063",
      "9b4891b5d1494095b73712faadaad708",
      "47838e0831cb466b8fc5b5e26727e90a",
      "f462c7f2f73b41b59fd1382090f6bf38",
      "64be1d28d426485386cf0772c423134f",
      "4af37d426c864fc290ee32bfedd964af",
      "0c198eb487b3457b9a326eb977856217",
      "fd8ae76f9c6e4c3892c8a063ec327445",
      "be56976900524ea78a0330aa791ad7d0",
      "43056f8144944032ae268677aebaa6d2",
      "585c317a9e2245cb9335d40a181031b9",
      "69a6cb1525074bbf9bfa7a5dca4b35c9",
      "82f857510ec441b5a022e5790930530c",
      "2c5d23c1f70d401b8b9c0ae2c963c60f",
      "51404f94886e4ec5bcafa884744fcba0",
      "764846eaf4184b6980392342829826c1",
      "ad211bdf82304db5a0aaea032afda4d9",
      "f7ea37da35914370b2f25586e70ca5ad",
      "2a5cb70d55ee4f889ce97957ec936941",
      "d896230a0d584b53838f9420e59d43d4",
      "beb202498cf24c9692fc81b559b17b95",
      "44e595db59914fbfa9f3f5fd5f971daf",
      "0719ea8d073d4a2089aea6a4f9bdc4c3",
      "2d534c4ac7824074b001219ad1766938",
      "e2ba48597e864e6e8f1f9ea680e4e138",
      "7b628b846f8a48cab9248a92001e5855",
      "a954862d819a40a09925e05db6f39545",
      "361bcb3f033b4695a5381192a9de33a2",
      "c5e6cd36023b45cfa5c514774aaba30b",
      "053914eaa80e4f1da3c10baf7979649b",
      "f57a0e15a3dc495bb0adb1f3bfb5348b",
      "65c97ec433644a9f9ec98c9673bf60d0",
      "66d4d146c39c46a99a2ae381e5d8fd2c",
      "88bff9416fc74fdc81b8a58390b19484",
      "c37c4dae0c99414a8a47dd7aa4a6cd9e",
      "de56cf56586d41b6827a988c74bfc6c7",
      "5a7e3089d0fe496ab9068a2237ba014f",
      "e9ce13af57534316b75527cd9155be21",
      "a308a3d5f5b3447cab3b2d2c634dbe0b"
     ]
    },
    "id": "4822fd1e-65e3-4445-bf14-9c21eee354ec",
    "outputId": "938fb79b-e473-43b7-fee8-2be579bcbcbc",
    "tags": []
   },
   "outputs": [],
   "source": [
    "from datasets import load_dataset\n",
    "\n",
    "# Only evaluate on a subset of the data for demo\n",
    "dataset = load_dataset(\"InstaDeepAI/ms_ninespecies_benchmark\", split=\"test[:10%]\")\n",
    "\n",
    "# Otherwise evaluate on the full test set\n",
    "# dataset = load_dataset(\"InstaDeepAI/ms_ninespecies_benchmark\", split=\"test\")"
   ]
  },
  {
   "cell_type": "code",
   "execution_count": null,
   "id": "a088e7c3-93ba-4421-879a-a5fbb3c90a7f",
   "metadata": {
    "id": "a088e7c3-93ba-4421-879a-a5fbb3c90a7f",
    "tags": []
   },
   "outputs": [],
   "source": [
    "from instanovo.transformer.dataset import collate_batch\n",
    "from instanovo.transformer.dataset import SpectrumDataset\n",
    "\n",
    "s2i = {v:k for k,v in model.i2s.items()}\n",
    "ds = SpectrumDataset(dataset, s2i, config[\"n_peaks\"], return_str=True)"
   ]
  },
  {
   "cell_type": "code",
   "execution_count": null,
   "id": "ac42a78b-942b-4996-a5e7-e4d888091fda",
   "metadata": {
    "id": "ac42a78b-942b-4996-a5e7-e4d888091fda",
    "tags": []
   },
   "outputs": [],
   "source": [
    "from torch.utils.data import DataLoader\n",
    "\n",
    "dl = DataLoader(ds, batch_size=64, shuffle=False, collate_fn=collate_batch)"
   ]
  },
  {
   "cell_type": "code",
   "execution_count": null,
   "id": "8e51fdeb-ae0f-4851-802f-d692504ee349",
   "metadata": {
    "id": "8e51fdeb-ae0f-4851-802f-d692504ee349",
    "tags": []
   },
   "outputs": [],
   "source": [
    "batch = next(iter(dl))\n",
    "\n",
    "spectra, precursors, spectra_mask, peptides, _ = batch\n",
    "spectra = spectra.to(device)\n",
    "precursors = precursors.to(device)"
   ]
  },
  {
   "cell_type": "code",
   "execution_count": null,
   "id": "vYikijitbuiS",
   "metadata": {
    "colab": {
     "base_uri": "https://localhost:8080/"
    },
    "id": "vYikijitbuiS",
    "outputId": "75a2ca70-4a27-45d1-a57f-21699dbe20ad"
   },
   "outputs": [],
   "source": [
    "spectra.shape, precursors.shape"
   ]
  },
  {
   "attachments": {},
   "cell_type": "markdown",
   "id": "8a16c311-6802-49f8-af8e-857f43510c37",
   "metadata": {
    "id": "8a16c311-6802-49f8-af8e-857f43510c37"
   },
   "source": [
    "## Knapsack beam-search decoder\n",
    "\n",
    "Setup knapsack beam search decoder. This may take a few minutes."
   ]
  },
  {
   "cell_type": "code",
   "execution_count": null,
   "id": "3537de13-8cbb-4893-86cf-f33fbd7ee567",
   "metadata": {
    "colab": {
     "base_uri": "https://localhost:8080/"
    },
    "id": "3537de13-8cbb-4893-86cf-f33fbd7ee567",
    "outputId": "5c6cad7f-8b11-4cbe-da00-de08850c1712",
    "tags": []
   },
   "outputs": [],
   "source": [
    "from instanovo.constants import MASS_SCALE\n",
    "from instanovo.inference.knapsack import Knapsack\n",
    "from instanovo.inference.knapsack_beam_search import KnapsackBeamSearchDecoder\n",
    "\n",
    "def _setup_knapsack(model: InstaNovo) -> Knapsack:\n",
    "    residue_masses = model.peptide_mass_calculator.masses\n",
    "    residue_masses[\"$\"] = 0\n",
    "    residue_indices = model.decoder._aa2idx\n",
    "    return Knapsack.construct_knapsack(\n",
    "        residue_masses=residue_masses,\n",
    "        residue_indices=residue_indices,\n",
    "        max_mass=4000.00,\n",
    "        mass_scale=MASS_SCALE,\n",
    "    )\n",
    "\n",
    "knapsack_path = \"./checkpoints/knapsack/\"\n",
    "\n",
    "if not os.path.exists(knapsack_path):\n",
    "    print(\"Knapsack path missing or not specified, generating...\")\n",
    "    knapsack = _setup_knapsack(model)\n",
    "    decoder = KnapsackBeamSearchDecoder(model, knapsack)\n",
    "    print(f\"Saving knapsack to {knapsack_path}\")\n",
    "    knapsack.save(knapsack_path)\n",
    "else:\n",
    "    print(\"Knapsack path found. Loading...\")\n",
    "    decoder = KnapsackBeamSearchDecoder.from_file(model=model, path=knapsack_path)"
   ]
  },
  {
   "attachments": {},
   "cell_type": "markdown",
   "id": "vBZwQvIYB2Wa",
   "metadata": {
    "id": "vBZwQvIYB2Wa"
   },
   "source": [
    "## Inference time 🚀"
   ]
  },
  {
   "attachments": {},
   "cell_type": "markdown",
   "id": "0ad8db32-98c4-4ba2-a58a-719d194345ec",
   "metadata": {
    "id": "0ad8db32-98c4-4ba2-a58a-719d194345ec"
   },
   "source": [
    "Evaluating a single batch..."
   ]
  },
  {
   "cell_type": "code",
   "execution_count": null,
   "id": "52ff9613-9670-48ae-afd7-78f78efa71d0",
   "metadata": {
    "id": "52ff9613-9670-48ae-afd7-78f78efa71d0",
    "tags": []
   },
   "outputs": [],
   "source": [
    "with torch.no_grad():\n",
    "    p = decoder.decode(\n",
    "        spectra=spectra,\n",
    "        precursors=precursors,\n",
    "        beam_size=config[\"n_beams\"],\n",
    "        max_length=config[\"max_length\"],\n",
    "    )\n",
    "preds = [\"\".join(x.sequence) if not isinstance(x, list) else \"\" for x in p]\n",
    "probs = [x.log_probability if not isinstance(x, list) else -1 for x in p]"
   ]
  },
  {
   "cell_type": "code",
   "execution_count": null,
   "id": "d61eebdf-abb8-449d-b7dd-dce6273747a0",
   "metadata": {
    "id": "d61eebdf-abb8-449d-b7dd-dce6273747a0",
    "tags": []
   },
   "outputs": [],
   "source": [
    "from instanovo.utils.metrics import Metrics\n",
    "\n",
    "metrics = Metrics(config[\"residues\"], config[\"isotope_error_range\"])"
   ]
  },
  {
   "cell_type": "code",
   "execution_count": null,
   "id": "92270452-2371-484f-8cdd-c1f6492aa4bf",
   "metadata": {
    "colab": {
     "base_uri": "https://localhost:8080/"
    },
    "id": "92270452-2371-484f-8cdd-c1f6492aa4bf",
    "outputId": "6b9c0a83-7a41-4815-9c0e-ea891272ec69",
    "tags": []
   },
   "outputs": [],
   "source": [
    "aa_precision, aa_recall, peptide_recall, peptide_precision = metrics.compute_precision_recall(peptides, preds)\n",
    "peptide_recall"
   ]
  },
  {
   "attachments": {},
   "cell_type": "markdown",
   "id": "b6d3e928-2b46-45a0-bdd3-d86970ba4ece",
   "metadata": {
    "id": "b6d3e928-2b46-45a0-bdd3-d86970ba4ece"
   },
   "source": [
    "Evaluating on the yeast test fold of the nine-species dataset:"
   ]
  },
  {
   "cell_type": "code",
   "execution_count": null,
   "id": "f0171e22-b893-4876-b1da-4603ad022136",
   "metadata": {
    "colab": {
     "base_uri": "https://localhost:8080/"
    },
    "id": "f0171e22-b893-4876-b1da-4603ad022136",
    "outputId": "9d7233ed-c579-4d57-954a-fafc52f43218",
    "tags": []
   },
   "outputs": [],
   "source": [
    "preds = []\n",
    "targs = []\n",
    "probs = []\n",
    "\n",
    "for _, batch in tqdm(enumerate(dl), total=len(dl)):\n",
    "    spectra, precursors, _, peptides, _ = batch\n",
    "    spectra = spectra.to(device)\n",
    "    precursors = precursors.to(device)\n",
    "\n",
    "    with torch.no_grad():\n",
    "        p = decoder.decode(\n",
    "            spectra=spectra,\n",
    "            precursors=precursors,\n",
    "            beam_size=config[\"n_beams\"],\n",
    "            max_length=config[\"max_length\"],\n",
    "        )\n",
    "\n",
    "    preds += [\"\".join(x.sequence) if not isinstance(x, list) else \"\" for x in p]\n",
    "    probs += [x.log_probability if not isinstance(x, list) else -1 for x in p]\n",
    "    targs += list(peptides)"
   ]
  },
  {
   "cell_type": "code",
   "execution_count": null,
   "id": "33473035-c659-48cd-912d-4a1407ae301b",
   "metadata": {
    "colab": {
     "base_uri": "https://localhost:8080/"
    },
    "id": "33473035-c659-48cd-912d-4a1407ae301b",
    "outputId": "04e6cdee-59ed-453c-a216-cd037bbd29e6",
    "tags": []
   },
   "outputs": [],
   "source": [
    "aa_precision, aa_recall, peptide_recall, peptide_precision = metrics.compute_precision_recall(targs, preds)\n",
    "aa_error_rate = metrics.compute_aa_er(targs, preds)\n",
    "auc = metrics.calc_auc(targs, preds, np.exp(pd.Series(probs)))\n",
    "\n",
    "print(f\"amino acid error rate:   {aa_error_rate}\")\n",
    "print(f\"amino acid precision:  {aa_precision}\")\n",
    "print(f\"amino acid recall:   {aa_recall}\")\n",
    "print(f\"peptide precision:    {peptide_precision}\")\n",
    "print(f\"peptide recall:  {peptide_recall}\")\n",
    "print(f\"area under the ROC curve:  {auc}\")"
   ]
  },
  {
   "attachments": {},
   "cell_type": "markdown",
   "id": "IcstKaUGB8Bo",
   "metadata": {
    "id": "IcstKaUGB8Bo"
   },
   "source": [
    "_Note: to reproduce the results of the paper, the entire Yeast test set should be evaluated._"
   ]
  },
  {
   "attachments": {},
   "cell_type": "markdown",
   "id": "ychXR1M3CbKf",
   "metadata": {
    "id": "ychXR1M3CbKf"
   },
   "source": [
    "Saving the predictions..."
   ]
  },
  {
   "cell_type": "code",
   "execution_count": null,
   "id": "u4DxD6ZDCMGC",
   "metadata": {
    "colab": {
     "base_uri": "https://localhost:8080/",
     "height": 206
    },
    "id": "u4DxD6ZDCMGC",
    "outputId": "d85757be-2ee0-41a8-cf95-b0a7fd0dc015"
   },
   "outputs": [],
   "source": [
    "pred_df = pd.DataFrame({\n",
    "    \"targets\": targs,\n",
    "    \"predictions\": preds,\n",
    "    \"log_probabilities\": probs,\n",
    "})\n",
    "pred_df.head()"
   ]
  },
  {
   "cell_type": "code",
   "execution_count": null,
   "id": "HJgMPD0YCWIm",
   "metadata": {
    "id": "HJgMPD0YCWIm"
   },
   "outputs": [],
   "source": [
    "pred_df.to_csv(\"predictions.csv\", index=False)"
   ]
  },
  {
   "cell_type": "markdown",
   "id": "adfd26a3",
   "metadata": {},
   "source": [
    "## InstaNovo+: Iterative Refinement with a Diffusion Model\n",
    "In this section, we show how to refine the predictions from the transformer model with a diffusion model.\n",
    "\n",
    "First, we download the model checkpoint."
   ]
  },
  {
   "cell_type": "code",
   "execution_count": null,
   "id": "c1b50b0b",
   "metadata": {},
   "outputs": [],
   "source": [
    "!wget -nc https://github.com/instadeepai/InstaNovo/releases/download/0.1.5/instanovoplus_yeast.zip -P ./checkpoints/\n",
    "!unzip -u ./checkpoints/instanovoplus_yeast.zip -d ./checkpoints"
   ]
  },
  {
   "cell_type": "markdown",
   "id": "98fe2c7c",
   "metadata": {},
   "source": [
    "Next, we load the checkpoint and create a decoder object."
   ]
  },
  {
   "cell_type": "code",
   "execution_count": null,
   "id": "832320b1",
   "metadata": {},
   "outputs": [],
   "source": [
    "from instanovo.diffusion.multinomial_diffusion import MultinomialDiffusion\n",
    "from instanovo.inference.diffusion import DiffusionDecoder\n",
    "\n",
    "diffusion_model = MultinomialDiffusion.load(\"./checkpoints/diffusion_checkpoint\")\n",
    "diffusion_model = diffusion_model.to(device).eval()\n",
    "diffusion_decoder = DiffusionDecoder(model=diffusion_model)\n"
   ]
  },
  {
   "cell_type": "markdown",
   "id": "03002840",
   "metadata": {},
   "source": [
    "Then we prepare the inference data loader using predictions from the InstaNovo transformer model."
   ]
  },
  {
   "cell_type": "code",
   "execution_count": null,
   "id": "e17aab88",
   "metadata": {},
   "outputs": [],
   "source": [
    "import pandas as pd\n",
    "import polars as pl\n",
    "from instanovo.diffusion.dataset import AnnotatedPolarsSpectrumDataset\n",
    "from instanovo.diffusion.dataset import collate_batches\n",
    "\n",
    "diffusion_dataset = AnnotatedPolarsSpectrumDataset(\n",
    "    pl.from_pandas(pd.DataFrame(dataset)), peptides=preds\n",
    ")\n",
    "\n",
    "diffusion_data_loader = DataLoader(diffusion_dataset, batch_size=64, shuffle=False,\n",
    "                                   collate_fn=collate_batches(\n",
    "                                       residues=diffusion_model.residues,\n",
    "                                       max_length=diffusion_model.config.max_length,\n",
    "                                       time_steps=diffusion_decoder.time_steps,\n",
    "                                       annotated=True\n",
    "                                   ))"
   ]
  },
  {
   "cell_type": "markdown",
   "id": "3c937e57",
   "metadata": {},
   "source": [
    "Finally, we predict sequences by iterating over the spectra and refining the InstaNovo predictions."
   ]
  },
  {
   "cell_type": "code",
   "execution_count": null,
   "id": "b4082d2a",
   "metadata": {},
   "outputs": [],
   "source": [
    "predictions = []\n",
    "log_probs = []\n",
    "\n",
    "for batch in tqdm(diffusion_data_loader, total=len(diffusion_data_loader)):\n",
    "    spectra, spectra_padding_mask, precursors, peptides, peptide_padding_mask = batch\n",
    "    spectra = spectra.to(device)\n",
    "    spectra_padding_mask = spectra_padding_mask.to(device)\n",
    "    precursors = precursors.to(device)\n",
    "    peptides = peptides.to(device)\n",
    "    peptide_padding_mask = peptide_padding_mask.to(device)\n",
    "\n",
    "    with torch.no_grad():\n",
    "        batch_predictions, batch_log_probs = diffusion_decoder.decode(\n",
    "            spectra=spectra,\n",
    "            spectra_padding_mask=spectra_padding_mask,\n",
    "            precursors=precursors,\n",
    "            initial_sequence=peptides\n",
    "        )\n",
    "    predictions.extend([\"\".join(sequence) for sequence in batch_predictions])\n",
    "    log_probs.extend(batch_log_probs)"
   ]
  },
  {
   "cell_type": "markdown",
   "id": "81ea986c",
   "metadata": {},
   "source": [
    "Iterative refinement improves performance on this sample of the Nine Species dataset. (To replicate the performance reported in the paper, you would need to evaluate on the entire dataset.) "
   ]
  },
  {
   "cell_type": "code",
   "execution_count": null,
   "id": "b9121cca",
   "metadata": {},
   "outputs": [],
   "source": [
    "aa_precision_refined, aa_recall_refined, peptide_recall_refined, peptide_precision_refined = metrics.compute_precision_recall(targs, predictions=predictions)\n",
    "aa_error_rate_refined = metrics.compute_aa_er(targs, predictions)\n",
    "auc_refined = metrics.calc_auc(targs, predictions, np.exp(pd.Series(log_probs)))\n",
    "\n",
    "print(f\"amino acid error rate:   {aa_error_rate_refined}\")\n",
    "print(f\"amino acid precision:  {aa_precision_refined}\")\n",
    "print(f\"amino acid recall:  {aa_recall_refined}\")\n",
    "print(f\"peptide precision:  {peptide_precision_refined}\")\n",
    "print(f\"peptide recall:  {peptide_recall_refined}\")\n",
    "print(f\"area under the ROC curve:   {auc_refined}\")"
   ]
  },
  {
   "cell_type": "code",
   "execution_count": null,
   "id": "3eba0ade",
   "metadata": {},
   "outputs": [],
   "source": [
    "print(f\"Decrease in AA error rate: {100*(aa_error_rate - aa_error_rate_refined):.2f}%\")\n",
    "print(f\"Increase in AA precision: {100*(aa_precision_refined - aa_precision):.2f}%\")\n",
    "print(f\"Increase in AA recall: {100*(aa_recall_refined - aa_recall):.2f}%\")\n",
    "print(f\"Increase in peptide precision: {100*(peptide_precision_refined - peptide_precision):.2f}%\")\n",
    "print(f\"Increase in peptide recall: {100*(peptide_recall_refined - peptide_recall):.2f}%\")\n",
    "print(f\"Increase in AUC: {100*(auc_refined - auc):.2f}%\")"
   ]
  },
  {
   "cell_type": "code",
   "execution_count": null,
   "id": "28e633b7",
   "metadata": {},
   "outputs": [],
   "source": [
    "diffusion_predictions = pd.DataFrame({\n",
    "    \"targets\": targs,\n",
    "    \"predictions\": predictions,\n",
    "    \"log_probabilities\": log_probs,\n",
    "})\n",
    "diffusion_predictions.head()"
   ]
  },
  {
   "cell_type": "code",
   "execution_count": null,
   "id": "762dbcd8",
   "metadata": {},
   "outputs": [],
   "source": [
    "diffusion_predictions.to_csv(\"diffusion_predictions.csv\", index=False)"
   ]
  }
 ],
 "metadata": {
  "accelerator": "GPU",
  "colab": {
   "gpuType": "T4",
   "provenance": []
  },
  "kernelspec": {
   "display_name": "instanovo-py3.8",
   "language": "python",
   "name": "instanovo-py3.8"
  },
  "language_info": {
   "codemirror_mode": {
    "name": "ipython",
    "version": 3
   },
   "file_extension": ".py",
   "mimetype": "text/x-python",
   "name": "python",
   "nbconvert_exporter": "python",
   "pygments_lexer": "ipython3",
   "version": "3.8.9"
  }
 },
 "nbformat": 4,
 "nbformat_minor": 5
}
