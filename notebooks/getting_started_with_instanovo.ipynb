{
 "cells": [
  {
   "attachments": {},
   "cell_type": "markdown",
   "id": "0",
   "metadata": {
    "id": "2f77bd43-f74e-4e80-b51a-b9e619d2ba11",
    "tags": []
   },
   "source": [
    "# Getting started with InstaNovo\n",
    "\n",
    "<a target=\"_blank\" href=\"https://colab.research.google.com/github/instadeepai/InstaNovo/blob/main/notebooks/getting_started_with_instanovo.ipynb\">\n",
    "  <img src=\"https://colab.research.google.com/assets/colab-badge.svg\" alt=\"Open In Colab\"/>\n",
    "</a>\n",
    "<a target=\"_blank\" href=\"https://kaggle.com/kernels/welcome?src=https://github.com/instadeepai/InstaNovo/blob/main/notebooks/getting_started_with_instanovo.ipynb\">\n",
    "<img src=\"https://kaggle.com/static/images/open-in-kaggle.svg\" alt=\"Open In Kaggle\"/> </a>\n",
    "\n",
    "In this notebook, we demo InstaNovo, a transformer neural network with the ability to translate fragment ion peaks into the sequence of amino acids that make up the studied peptide(s). We evaluate the model on the yeast test fold of nine-species dataset."
   ]
  },
  {
   "attachments": {},
   "cell_type": "markdown",
   "id": "1",
   "metadata": {
    "id": "v4Rk9kj1NiMU"
   },
   "source": [
    "![](https://raw.githubusercontent.com/instadeepai/InstaNovo/main/graphical_abstract.jpeg)"
   ]
  },
  {
   "attachments": {},
   "cell_type": "markdown",
   "id": "2",
   "metadata": {
    "id": "VwB6HeU1Ngxk"
   },
   "source": [
    "**Paper:**\n",
    "\n",
    "- **De novo peptide sequencing with InstaNovo: Accurate, database-free peptide identification for large scale proteomics experiments** \\\n",
    "  Kevin Eloff, Konstantinos Kalogeropoulos, Oliver Morell, Amandla Mabona, Jakob Berg Jespersen, Wesley Williams, Sam van Beljouw, Marcin Skwark, Andreas Hougaard Laustsen, Stan J. J. Brouns, Anne Ljungars, Erwin M. Schoof, Jeroen Van Goey, Ulrich auf dem Keller, Karim Beguir, Nicolas Lopez Carranza, Timothy P. Jenkins \\\n",
    "  [bioRxiv](https://www.biorxiv.org/content/10.1101/2023.08.30.555055v1), [GitHub](https://github.com/instadeepai/InstaNovo)\n",
    "\n",
    "**Important:**\n",
    "\n",
    "It is highly recommended to run this notebook in an environment with access to a GPU. If you are running this notebook in Google Colab:\n",
    "\n",
    "- In the menu, go to `Runtime > Change Runtime Type > T4 GPU`"
   ]
  },
  {
   "attachments": {},
   "cell_type": "markdown",
   "id": "3",
   "metadata": {
    "id": "be4f1d34-df21-453f-b167-0ef935c85f00"
   },
   "source": [
    "## Loading the InstaNovo model\n",
    "\n",
    "We first install the latest instanovo from PyPi\n",
    "\n",
    "_Note: this currently installs directly from GitHub, this will be updated in the next release._"
   ]
  },
  {
   "cell_type": "code",
   "execution_count": null,
   "id": "4",
   "metadata": {},
   "outputs": [],
   "source": [
    "%load_ext autoreload\n",
    "%autoreload 2"
   ]
  },
  {
   "cell_type": "code",
   "execution_count": null,
   "id": "5",
   "metadata": {
    "id": "iA7lr2HPZs_O"
   },
   "outputs": [],
   "source": [
    "!pip install instanovo"
   ]
  },
  {
   "cell_type": "code",
   "execution_count": null,
   "id": "6",
   "metadata": {
    "colab": {
     "base_uri": "https://localhost:8080/"
    },
    "id": "cc618a03-d365-484d-a001-9b991141d1f5",
    "outputId": "4676a7de-cb22-4cc4-8811-b6e9da92172a",
    "tags": []
   },
   "outputs": [],
   "source": [
    "from instanovo.transformer.model import InstaNovo\n",
    "\n",
    "from tqdm import tqdm\n",
    "import torch\n",
    "import os\n",
    "import numpy as np\n",
    "import pandas as pd\n",
    "import urllib.request\n",
    "import zipfile"
   ]
  },
  {
   "attachments": {},
   "cell_type": "markdown",
   "id": "7",
   "metadata": {
    "id": "7QcyM4jKA9qL"
   },
   "source": [
    "We can download the model checkpoint directly from the [InstaNovo releases](https://github.com/instadeepai/InstaNovo/releases)."
   ]
  },
  {
   "cell_type": "code",
   "execution_count": null,
   "id": "8",
   "metadata": {
    "colab": {
     "base_uri": "https://localhost:8080/"
    },
    "id": "41427652-3ceb-4140-95b6-2b2c24365cd8",
    "outputId": "163ec43f-2d5e-488c-a4b1-5e3d41574144",
    "tags": []
   },
   "outputs": [],
   "source": [
    "# Download checkpoint locally\n",
    "os.makedirs('checkpoints', exist_ok=True)\n",
    "url = \"https://github.com/instadeepai/InstaNovo/releases/download/0.1.4/instanovo_yeast.pt\"\n",
    "file_path = os.path.join('checkpoints', 'instanovo_yeast.pt')\n",
    "if not os.path.exists(file_path):\n",
    "    urllib.request.urlretrieve(url, file_path)"
   ]
  },
  {
   "cell_type": "code",
   "execution_count": null,
   "id": "9",
   "metadata": {
    "colab": {
     "base_uri": "https://localhost:8080/",
     "height": 35
    },
    "id": "d8c02b31-e704-49cd-9dad-60a2f5b5cfa3",
    "outputId": "edce16ce-b370-4430-da76-07b41a1de3ff",
    "tags": []
   },
   "outputs": [],
   "source": [
    "device = \"cuda\" if torch.cuda.is_available() else \"cpu\"\n",
    "device"
   ]
  },
  {
   "attachments": {},
   "cell_type": "markdown",
   "id": "10",
   "metadata": {
    "id": "qu8dHXidBZeE"
   },
   "source": [
    "Loading the model..."
   ]
  },
  {
   "cell_type": "code",
   "execution_count": null,
   "id": "11",
   "metadata": {},
   "outputs": [],
   "source": [
    "# model_path = \"./checkpoints/instanovo_yeast.pt\"\n",
    "model_path = \"../checkpoints/extended_147b2a84/epoch=3-step=800000.ckpt\""
   ]
  },
  {
   "cell_type": "code",
   "execution_count": null,
   "id": "12",
   "metadata": {
    "id": "32eaf403-a1b8-4737-96ed-4931c5db44e6",
    "tags": []
   },
   "outputs": [],
   "source": [
    "model, config = InstaNovo.load(model_path)\n",
    "model = model.to(device).eval()"
   ]
  },
  {
   "attachments": {},
   "cell_type": "markdown",
   "id": "13",
   "metadata": {
    "id": "bcdeeddb-6b91-4cd1-bb30-f72d97d809de"
   },
   "source": [
    "## Loading the nine-species dataset\n",
    "Download the [yeast test fold of the nine-species dataset](https://huggingface.co/datasets/InstaDeepAI/instanovo_ninespecies_exclude_yeast) dataset from HuggingFace.\n",
    "\n",
    "We can use our SpectrumDataFrame to download this directly. SpectrumDataFrame is a special data class used by InstaNovo to read and write from multiple formats, including mgf, mzml, mzxml, pandas, polars, HuggingFace, etc."
   ]
  },
  {
   "cell_type": "code",
   "execution_count": null,
   "id": "14",
   "metadata": {},
   "outputs": [],
   "source": [
    "from instanovo.utils import SpectrumDataFrame\n",
    "\n",
    "sdf = SpectrumDataFrame.from_huggingface(\"InstaDeepAI/ms_ninespecies_benchmark\", is_annotated=True, shuffle=False, split=\"test[:10%]\")"
   ]
  },
  {
   "cell_type": "code",
   "execution_count": null,
   "id": "15",
   "metadata": {},
   "outputs": [],
   "source": [
    "sdf.to_pandas().head(5)"
   ]
  },
  {
   "cell_type": "code",
   "execution_count": null,
   "id": "16",
   "metadata": {
    "id": "a088e7c3-93ba-4421-879a-a5fbb3c90a7f",
    "tags": []
   },
   "outputs": [],
   "source": [
    "from instanovo.transformer.dataset import SpectrumDataset, collate_batch\n",
    "\n",
    "ds = SpectrumDataset(\n",
    "    sdf, \n",
    "    model.residue_set, \n",
    "    config.get(\"n_peaks\", 200),\n",
    "    return_str=True,\n",
    "    annotated=True,\n",
    ")"
   ]
  },
  {
   "cell_type": "code",
   "execution_count": null,
   "id": "17",
   "metadata": {
    "id": "ac42a78b-942b-4996-a5e7-e4d888091fda",
    "tags": []
   },
   "outputs": [],
   "source": [
    "from torch.utils.data import DataLoader\n",
    "\n",
    "# When using SpectrumDataFrame, workers and shuffle is handled internally.\n",
    "dl = DataLoader(ds, batch_size=64, shuffle=False, num_workers=0, collate_fn=collate_batch)"
   ]
  },
  {
   "cell_type": "code",
   "execution_count": null,
   "id": "18",
   "metadata": {
    "id": "8e51fdeb-ae0f-4851-802f-d692504ee349",
    "tags": []
   },
   "outputs": [],
   "source": [
    "batch = next(iter(dl))\n",
    "\n",
    "spectra, precursors, spectra_mask, peptides, _ = batch\n",
    "spectra = spectra.to(device)\n",
    "precursors = precursors.to(device)"
   ]
  },
  {
   "cell_type": "code",
   "execution_count": null,
   "id": "19",
   "metadata": {
    "colab": {
     "base_uri": "https://localhost:8080/"
    },
    "id": "vYikijitbuiS",
    "outputId": "75a2ca70-4a27-45d1-a57f-21699dbe20ad"
   },
   "outputs": [],
   "source": [
    "spectra.shape, precursors.shape"
   ]
  },
  {
   "attachments": {},
   "cell_type": "markdown",
   "id": "20",
   "metadata": {
    "id": "8a16c311-6802-49f8-af8e-857f43510c37"
   },
   "source": [
    "## Knapsack beam-search decoder\n",
    "\n",
    "Setup knapsack beam search decoder. This may take a few minutes."
   ]
  },
  {
   "cell_type": "code",
   "execution_count": null,
   "id": "21",
   "metadata": {
    "colab": {
     "base_uri": "https://localhost:8080/"
    },
    "id": "3537de13-8cbb-4893-86cf-f33fbd7ee567",
    "outputId": "5c6cad7f-8b11-4cbe-da00-de08850c1712",
    "tags": []
   },
   "outputs": [],
   "source": [
    "from instanovo.constants import MASS_SCALE\n",
    "from instanovo.inference.knapsack import Knapsack\n",
    "from instanovo.inference.knapsack_beam_search import KnapsackBeamSearchDecoder\n",
    "\n",
    "num_beams = 5\n",
    "\n",
    "def _setup_knapsack(model: InstaNovo) -> Knapsack:\n",
    "    # Cannot allow negative masses in knapsack graph\n",
    "    if \"(-17.03)\" in model.residue_set.residue_masses:\n",
    "        model.residue_set.residue_masses[\"(-17.03)\"] = 1e3\n",
    "    \n",
    "    residue_masses = dict(model.residue_set.residue_masses.copy())\n",
    "    if any([x < 0 for x in residue_masses.values()]):\n",
    "        raise NotImplementedError(\n",
    "            \"Negative mass found in residues, this will break the knapsack graph. Either disable knapsack or use strictly positive masses\"\n",
    "        )\n",
    "    for special_residue in list(model.residue_set.residue_to_index.keys())[:3]:\n",
    "        residue_masses[special_residue] = 0\n",
    "    residue_indices = model.residue_set.residue_to_index\n",
    "    return Knapsack.construct_knapsack(\n",
    "        residue_masses=residue_masses,\n",
    "        residue_indices=residue_indices,\n",
    "        max_mass=4000.00,\n",
    "        mass_scale=MASS_SCALE,\n",
    "    )\n",
    "\n",
    "knapsack_path = \"./checkpoints/knapsack/\"\n",
    "\n",
    "if not os.path.exists(knapsack_path):\n",
    "    print(\"Knapsack path missing or not specified, generating...\")\n",
    "    knapsack = _setup_knapsack(model)\n",
    "    decoder = KnapsackBeamSearchDecoder(model, knapsack)\n",
    "    # Optionally save knapsack\n",
    "    # print(f\"Saving knapsack to {knapsack_path}\")\n",
    "    # knapsack.save(knapsack_path)\n",
    "else:\n",
    "    print(\"Knapsack path found. Loading...\")\n",
    "    decoder = KnapsackBeamSearchDecoder.from_file(model=model, path=knapsack_path)"
   ]
  },
  {
   "cell_type": "markdown",
   "id": "22",
   "metadata": {},
   "source": [
    "Or use greedy search (fastest) or plain BeamSearch"
   ]
  },
  {
   "cell_type": "code",
   "execution_count": null,
   "id": "23",
   "metadata": {},
   "outputs": [],
   "source": [
    "from instanovo.inference import GreedyDecoder\n",
    "from instanovo.inference import BeamSearchDecoder\n",
    "\n",
    "num_beams = 1\n",
    "\n",
    "if num_beams > 1:\n",
    "    decoder = BeamSearchDecoder(model=model)\n",
    "else:    \n",
    "    decoder = GreedyDecoder(model=model)"
   ]
  },
  {
   "attachments": {},
   "cell_type": "markdown",
   "id": "24",
   "metadata": {
    "id": "vBZwQvIYB2Wa"
   },
   "source": [
    "## Inference time 🚀"
   ]
  },
  {
   "attachments": {},
   "cell_type": "markdown",
   "id": "25",
   "metadata": {
    "id": "0ad8db32-98c4-4ba2-a58a-719d194345ec"
   },
   "source": [
    "Evaluating a single batch..."
   ]
  },
  {
   "cell_type": "code",
   "execution_count": null,
   "id": "26",
   "metadata": {
    "id": "52ff9613-9670-48ae-afd7-78f78efa71d0",
    "tags": []
   },
   "outputs": [],
   "source": [
    "from instanovo.inference import ScoredSequence\n",
    "\n",
    "with torch.no_grad():\n",
    "    p = decoder.decode(\n",
    "        spectra=spectra,\n",
    "        precursors=precursors,\n",
    "        beam_size=num_beams,\n",
    "        max_length=config[\"max_length\"],\n",
    "    )\n",
    "\n",
    "preds = [\n",
    "    x.sequence \n",
    "    if isinstance(x, ScoredSequence) \n",
    "    else [] \n",
    "    for x in p\n",
    "]\n",
    "probs = [\n",
    "    x.sequence_log_probability\n",
    "    if isinstance(x, ScoredSequence)\n",
    "    else -float(\"inf\")\n",
    "    for x in p\n",
    "]"
   ]
  },
  {
   "cell_type": "code",
   "execution_count": null,
   "id": "27",
   "metadata": {
    "id": "d61eebdf-abb8-449d-b7dd-dce6273747a0",
    "tags": []
   },
   "outputs": [],
   "source": [
    "from instanovo.utils.metrics import Metrics\n",
    "\n",
    "metrics = Metrics(model.residue_set, config[\"isotope_error_range\"])"
   ]
  },
  {
   "cell_type": "code",
   "execution_count": null,
   "id": "28",
   "metadata": {
    "colab": {
     "base_uri": "https://localhost:8080/"
    },
    "id": "92270452-2371-484f-8cdd-c1f6492aa4bf",
    "outputId": "6b9c0a83-7a41-4815-9c0e-ea891272ec69",
    "tags": []
   },
   "outputs": [],
   "source": [
    "aa_precision, aa_recall, peptide_recall, peptide_precision = metrics.compute_precision_recall(peptides, preds)\n",
    "peptide_recall"
   ]
  },
  {
   "attachments": {},
   "cell_type": "markdown",
   "id": "29",
   "metadata": {
    "id": "b6d3e928-2b46-45a0-bdd3-d86970ba4ece"
   },
   "source": [
    "Evaluating on the yeast test fold of the nine-species dataset:"
   ]
  },
  {
   "cell_type": "code",
   "execution_count": null,
   "id": "30",
   "metadata": {
    "colab": {
     "base_uri": "https://localhost:8080/"
    },
    "id": "f0171e22-b893-4876-b1da-4603ad022136",
    "outputId": "9d7233ed-c579-4d57-954a-fafc52f43218",
    "tags": []
   },
   "outputs": [],
   "source": [
    "preds = []\n",
    "targs = []\n",
    "probs = []\n",
    "\n",
    "for _, batch in tqdm(enumerate(dl), total=len(dl)):\n",
    "    spectra, precursors, _, peptides, _ = batch\n",
    "    spectra = spectra.to(device)\n",
    "    precursors = precursors.to(device)\n",
    "\n",
    "    with torch.no_grad():\n",
    "        p = decoder.decode(\n",
    "            spectra=spectra,\n",
    "            precursors=precursors,\n",
    "            beam_size=config[\"n_beams\"],\n",
    "            max_length=config[\"max_length\"],\n",
    "        )\n",
    "\n",
    "    preds += [\n",
    "        x.sequence \n",
    "        if isinstance(x, ScoredSequence) \n",
    "        else [] \n",
    "        for x in p\n",
    "    ]\n",
    "    probs += [\n",
    "        x.sequence_log_probability\n",
    "        if isinstance(x, ScoredSequence)\n",
    "        else -float(\"inf\")\n",
    "        for x in p\n",
    "    ]\n",
    "    targs += list(peptides)"
   ]
  },
  {
   "cell_type": "code",
   "execution_count": null,
   "id": "31",
   "metadata": {},
   "outputs": [],
   "source": [
    "aa_precision, aa_recall, peptide_recall, peptide_precision = metrics.compute_precision_recall(targs, preds)\n",
    "aa_error_rate = metrics.compute_aa_er(targs, preds)\n",
    "auc = metrics.calc_auc(targs, preds, np.exp(pd.Series(probs)))\n",
    "\n",
    "print(f\"amino acid error rate:    {aa_error_rate:.5f}\")\n",
    "print(f\"amino acid precision:     {aa_precision:.5f}\")\n",
    "print(f\"amino acid recall:        {aa_recall:.5f}\")\n",
    "print(f\"peptide precision:        {peptide_precision:.5f}\")\n",
    "print(f\"peptide recall:           {peptide_recall:.5f}\")\n",
    "print(f\"area under the PR curve:  {auc:.5f}\")"
   ]
  },
  {
   "attachments": {},
   "cell_type": "markdown",
   "id": "32",
   "metadata": {
    "id": "IcstKaUGB8Bo"
   },
   "source": [
    "_Note: to reproduce the results of the paper, the entire Yeast test set should be evaluated with the 0.1.7 release of InstaNovo._"
   ]
  },
  {
   "attachments": {},
   "cell_type": "markdown",
   "id": "33",
   "metadata": {
    "id": "ychXR1M3CbKf"
   },
   "source": [
    "### Saving the predictions..."
   ]
  },
  {
   "cell_type": "code",
   "execution_count": null,
   "id": "34",
   "metadata": {
    "colab": {
     "base_uri": "https://localhost:8080/",
     "height": 206
    },
    "id": "u4DxD6ZDCMGC",
    "outputId": "d85757be-2ee0-41a8-cf95-b0a7fd0dc015"
   },
   "outputs": [],
   "source": [
    "pred_df = pd.DataFrame({\n",
    "    \"targets\": targs,\n",
    "    \"predictions\": [\"\".join(x) for x in preds],\n",
    "    \"log_probabilities\": probs,\n",
    "})\n",
    "pred_df.head()"
   ]
  },
  {
   "cell_type": "code",
   "execution_count": null,
   "id": "35",
   "metadata": {
    "id": "HJgMPD0YCWIm"
   },
   "outputs": [],
   "source": [
    "pred_df.to_csv(\"predictions.csv\", index=False)"
   ]
  },
  {
   "cell_type": "markdown",
   "id": "36",
   "metadata": {},
   "source": [
    "## InstaNovo+: Iterative Refinement with a Diffusion Model [OUTDATED]\n",
    "<font color=\"red\">**This code is outdated with the 1.0 release of InstaNovo, please use [release 0.7.1](https://github.com/instadeepai/InstaNovo/releases/tag/0.1.7)**</font>\n",
    "\n",
    "In this section, we show how to refine the predictions from the transformer model with a diffusion model.\n",
    "\n",
    "First, we download the model checkpoint."
   ]
  },
  {
   "cell_type": "code",
   "execution_count": null,
   "id": "37",
   "metadata": {},
   "outputs": [],
   "source": [
    "url = \"https://github.com/instadeepai/InstaNovo/releases/download/0.1.5/instanovoplus_yeast.zip\"\n",
    "checkpoint_dir = \"./checkpoints/\"\n",
    "zip_file_path = os.path.join(checkpoint_dir, \"instanovoplus_yeast.zip\")\n",
    "\n",
    "# Download the file only if it doesn't exist\n",
    "os.makedirs(checkpoint_dir, exist_ok=True)\n",
    "if not os.path.exists(zip_file_path):\n",
    "    urllib.request.urlretrieve(url, zip_file_path)\n",
    "    print(f\"Downloaded: {zip_file_path}\")\n",
    "else:\n",
    "    print(f\"File already exists: {zip_file_path}\")\n",
    "\n",
    "# Unzip the file\n",
    "with zipfile.ZipFile(zip_file_path, 'r') as zip_ref:\n",
    "    zip_ref.extractall(checkpoint_dir)\n",
    "    print(f\"Extracted to: {checkpoint_dir}\")"
   ]
  },
  {
   "cell_type": "markdown",
   "id": "38",
   "metadata": {},
   "source": [
    "Next, we load the checkpoint and create a decoder object."
   ]
  },
  {
   "cell_type": "code",
   "execution_count": null,
   "id": "39",
   "metadata": {},
   "outputs": [],
   "source": [
    "from instanovo.diffusion.multinomial_diffusion import MultinomialDiffusion\n",
    "from instanovo.inference.diffusion import DiffusionDecoder\n",
    "\n",
    "diffusion_model = MultinomialDiffusion.load(\"./checkpoints/diffusion_checkpoint\")\n",
    "diffusion_model = diffusion_model.to(device).eval()\n",
    "diffusion_decoder = DiffusionDecoder(model=diffusion_model)\n"
   ]
  },
  {
   "cell_type": "markdown",
   "id": "40",
   "metadata": {},
   "source": [
    "Then we prepare the inference data loader using predictions from the InstaNovo transformer model."
   ]
  },
  {
   "cell_type": "code",
   "execution_count": null,
   "id": "41",
   "metadata": {},
   "outputs": [],
   "source": [
    "import pandas as pd\n",
    "import polars as pl\n",
    "from instanovo.diffusion.dataset import AnnotatedPolarsSpectrumDataset\n",
    "from instanovo.diffusion.dataset import collate_batches\n",
    "\n",
    "diffusion_dataset = AnnotatedPolarsSpectrumDataset(\n",
    "    pl.from_pandas(pd.DataFrame(dataset)), peptides=preds\n",
    ")\n",
    "\n",
    "diffusion_data_loader = DataLoader(diffusion_dataset, batch_size=64, shuffle=False,\n",
    "                                   collate_fn=collate_batches(\n",
    "                                       residues=diffusion_model.residues,\n",
    "                                       max_length=diffusion_model.config.max_length,\n",
    "                                       time_steps=diffusion_decoder.time_steps,\n",
    "                                       annotated=True\n",
    "                                   ))"
   ]
  },
  {
   "cell_type": "markdown",
   "id": "42",
   "metadata": {},
   "source": [
    "Finally, we predict sequences by iterating over the spectra and refining the InstaNovo predictions."
   ]
  },
  {
   "cell_type": "code",
   "execution_count": null,
   "id": "43",
   "metadata": {},
   "outputs": [],
   "source": [
    "predictions = []\n",
    "log_probs = []\n",
    "\n",
    "for batch in tqdm(diffusion_data_loader, total=len(diffusion_data_loader)):\n",
    "    spectra, spectra_padding_mask, precursors, peptides, peptide_padding_mask = batch\n",
    "    spectra = spectra.to(device)\n",
    "    spectra_padding_mask = spectra_padding_mask.to(device)\n",
    "    precursors = precursors.to(device)\n",
    "    peptides = peptides.to(device)\n",
    "    peptide_padding_mask = peptide_padding_mask.to(device)\n",
    "\n",
    "    with torch.no_grad():\n",
    "        batch_predictions, batch_log_probs = diffusion_decoder.decode(\n",
    "            spectra=spectra,\n",
    "            spectra_padding_mask=spectra_padding_mask,\n",
    "            precursors=precursors,\n",
    "            initial_sequence=peptides\n",
    "        )\n",
    "    predictions.extend([\"\".join(sequence) for sequence in batch_predictions])\n",
    "    log_probs.extend(batch_log_probs)"
   ]
  },
  {
   "cell_type": "markdown",
   "id": "44",
   "metadata": {},
   "source": [
    "Iterative refinement improves performance on this sample of the Nine Species dataset. (To replicate the performance reported in the paper, you would need to evaluate on the entire dataset.) "
   ]
  },
  {
   "cell_type": "code",
   "execution_count": null,
   "id": "45",
   "metadata": {},
   "outputs": [],
   "source": [
    "aa_precision_refined, aa_recall_refined, peptide_recall_refined, peptide_precision_refined = metrics.compute_precision_recall(targs, predictions=predictions)\n",
    "aa_error_rate_refined = metrics.compute_aa_er(targs, predictions)\n",
    "auc_refined = metrics.calc_auc(targs, predictions, np.exp(pd.Series(log_probs)))\n",
    "\n",
    "print(f\"amino acid error rate:   {aa_error_rate_refined}\")\n",
    "print(f\"amino acid precision:  {aa_precision_refined}\")\n",
    "print(f\"amino acid recall:  {aa_recall_refined}\")\n",
    "print(f\"peptide precision:  {peptide_precision_refined}\")\n",
    "print(f\"peptide recall:  {peptide_recall_refined}\")\n",
    "print(f\"area under the ROC curve:   {auc_refined}\")"
   ]
  },
  {
   "cell_type": "code",
   "execution_count": null,
   "id": "46",
   "metadata": {},
   "outputs": [],
   "source": [
    "print(f\"Decrease in AA error rate: {100*(aa_error_rate - aa_error_rate_refined):.2f}%\")\n",
    "print(f\"Increase in AA precision: {100*(aa_precision_refined - aa_precision):.2f}%\")\n",
    "print(f\"Increase in AA recall: {100*(aa_recall_refined - aa_recall):.2f}%\")\n",
    "print(f\"Increase in peptide precision: {100*(peptide_precision_refined - peptide_precision):.2f}%\")\n",
    "print(f\"Increase in peptide recall: {100*(peptide_recall_refined - peptide_recall):.2f}%\")\n",
    "print(f\"Increase in AUC: {100*(auc_refined - auc):.2f}%\")"
   ]
  },
  {
   "cell_type": "code",
   "execution_count": null,
   "id": "47",
   "metadata": {},
   "outputs": [],
   "source": [
    "diffusion_predictions = pd.DataFrame({\n",
    "    \"targets\": targs,\n",
    "    \"predictions\": predictions,\n",
    "    \"log_probabilities\": log_probs,\n",
    "})\n",
    "diffusion_predictions.head()"
   ]
  },
  {
   "cell_type": "code",
   "execution_count": null,
   "id": "48",
   "metadata": {},
   "outputs": [],
   "source": [
    "diffusion_predictions.to_csv(\"diffusion_predictions.csv\", index=False)"
   ]
  }
 ],
 "metadata": {
  "accelerator": "GPU",
  "colab": {
   "gpuType": "T4",
   "provenance": []
  },
  "kernelspec": {
   "display_name": "instanovo",
   "language": "python",
   "name": "python3"
  },
  "language_info": {
   "codemirror_mode": {
    "name": "ipython",
    "version": 3
   },
   "file_extension": ".py",
   "mimetype": "text/x-python",
   "name": "python",
   "nbconvert_exporter": "python",
   "pygments_lexer": "ipython3",
   "version": "3.11.9"
  }
 },
 "nbformat": 4,
 "nbformat_minor": 5
}
