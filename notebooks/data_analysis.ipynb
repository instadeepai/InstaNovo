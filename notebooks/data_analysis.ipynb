{
 "cells": [
  {
   "cell_type": "code",
   "execution_count": null,
   "id": "66ef5b65-16eb-48dd-bf38-a0033df80df4",
   "metadata": {},
   "outputs": [],
   "source": [
    "import matplotlib.pyplot as plt\n",
    "import pandas as pd\n",
    "import numpy as np\n",
    "from tqdm import tqdm\n",
    "import re\n",
    "from collections import Counter\n",
    "from itertools import chain\n",
    "import os\n",
    "\n",
    "%matplotlib inline"
   ]
  },
  {
   "cell_type": "code",
   "execution_count": null,
   "id": "86ba1fca-9541-4b53-bc8b-fe6444ae1e8f",
   "metadata": {},
   "outputs": [],
   "source": [
    "from dtu_denovo_sequencing.utils.dataset import load_all"
   ]
  },
  {
   "cell_type": "markdown",
   "id": "aa4dd2c5-f308-482c-89f8-ca7daf3511e3",
   "metadata": {},
   "source": [
    "# Dataset V1\n",
    "\n",
    "### Loading dataset:"
   ]
  },
  {
   "cell_type": "code",
   "execution_count": null,
   "id": "3b92fbcf-f930-48c3-a693-e65b319d915a",
   "metadata": {},
   "outputs": [],
   "source": [
    "path = '../data/denovo_dataset_v1/'\n",
    "df = load_all(path)\n",
    "df.shape"
   ]
  },
  {
   "cell_type": "code",
   "execution_count": null,
   "id": "fa96823e-e469-47a1-b777-3438643202c0",
   "metadata": {},
   "outputs": [],
   "source": [
    "df.head(3)"
   ]
  },
  {
   "cell_type": "markdown",
   "id": "28f4d2bc-5573-4b5b-ab64-20873be6cb99",
   "metadata": {},
   "source": [
    "## Dataset distributions\n",
    "Sequence length and Spectrum length"
   ]
  },
  {
   "cell_type": "code",
   "execution_count": null,
   "id": "d0fefdb4-ac17-4cb9-a775-260ace741fc9",
   "metadata": {},
   "outputs": [],
   "source": [
    "fig, ax = plt.subplots(ncols=2, figsize=(13,4))\n",
    "\n",
    "seq_len = df['Sequence'].map(len)\n",
    "ax[0].hist(seq_len, bins=np.arange(seq_len.min(),40)-0.4, rwidth=0.1)\n",
    "ax[0].set_xlabel('Sequence length')\n",
    "ax[0].set_ylabel('Count')\n",
    "\n",
    "spec_len = df['Mass values'].map(len)\n",
    "ax[1].hist(spec_len, bins=np.arange(spec_len.min(),800)-0.4, rwidth=1)\n",
    "ax[1].set_xlabel('Spectrum length')\n",
    "ax[1].set_ylabel('Count')\n",
    "\n",
    "plt.show()"
   ]
  },
  {
   "cell_type": "markdown",
   "id": "9399785b-d6b6-4218-bff2-c8ea9404fdbb",
   "metadata": {},
   "source": [
    "Number of occurrences per sequence"
   ]
  },
  {
   "cell_type": "code",
   "execution_count": null,
   "id": "c374947e-ce4e-4d63-8ed0-a4f9cf7115ef",
   "metadata": {},
   "outputs": [],
   "source": [
    "unique_counts = df['Sequence'].value_counts()\n",
    "plt.hist(unique_counts, bins=np.arange(1,30, 1)-0.4, rwidth=0.09)\n",
    "plt.xlabel('Sequence occurrences')\n",
    "plt.ylabel('Count')\n",
    "plt.show()\n",
    "f\"{(unique_counts>30).sum()} out of {unique_counts.shape[0]} unique sequences have more than 30 occurrences\""
   ]
  },
  {
   "cell_type": "markdown",
   "id": "ab7edb73-fc0a-4b9a-ba7e-ccf8f65a8e41",
   "metadata": {},
   "source": [
    "m/z and retention time distributions"
   ]
  },
  {
   "cell_type": "code",
   "execution_count": null,
   "id": "4b81e1fc-59e3-455d-a0f2-d51bca4b772c",
   "metadata": {},
   "outputs": [],
   "source": [
    "fig, ax = plt.subplots(ncols=2, figsize=(13,4))\n",
    "\n",
    "mz = df['m/z']\n",
    "ax[0].hist(mz, bins=np.arange(mz.min(),mz.max(), 5)-0.4, rwidth=1)\n",
    "ax[0].set_xlabel('m/z')\n",
    "ax[0].set_ylabel('Count')\n",
    "\n",
    "rt = df['Retention time']\n",
    "ax[1].hist(rt, bins=np.arange(rt.min(),rt.max(), 0.25)-0.4, rwidth=1)\n",
    "ax[1].set_xlabel('Retention time')\n",
    "ax[1].set_ylabel('Count')\n",
    "\n",
    "plt.show()"
   ]
  },
  {
   "cell_type": "markdown",
   "id": "373d0827-a1bc-440f-b24b-2b60ecd75183",
   "metadata": {},
   "source": [
    "Amino acid frequency"
   ]
  },
  {
   "cell_type": "code",
   "execution_count": null,
   "id": "7bc52c15-a965-4f23-8331-5013d5069ae2",
   "metadata": {},
   "outputs": [],
   "source": [
    "unique_aa = Counter(chain.from_iterable(df['Sequence']))\n",
    "\n",
    "plt.bar(unique_aa.keys(), unique_aa.values(), color=plt.colormaps.get('viridis')(np.arange(len(unique_aa))/len(unique_aa)))\n",
    "plt.ylabel('Count')\n",
    "plt.title('Amino acid frequency')\n",
    "plt.show()"
   ]
  },
  {
   "cell_type": "markdown",
   "id": "c2948f50-9fef-4724-aeba-1fd60442b710",
   "metadata": {},
   "source": [
    "## Amino acid oxidation modifications"
   ]
  },
  {
   "cell_type": "code",
   "execution_count": null,
   "id": "c6b02312-965c-4c7a-afcd-0339338e8244",
   "metadata": {},
   "outputs": [],
   "source": [
    "ox_count = df['Modified sequence'].map(lambda x: x.count('(ox)'))\n",
    "f\"Total oxidation count: {ox_count.sum()}\""
   ]
  },
  {
   "cell_type": "code",
   "execution_count": null,
   "id": "927bdde2-edf4-4f34-bded-4dc1f8b2045f",
   "metadata": {},
   "outputs": [],
   "source": [
    "plt.hist(ox_count, bins=np.arange(0,ox_count.max()+1, 1)-0.5, rwidth=0.5)\n",
    "plt.title('Oxidation occurrences per sample')\n",
    "plt.ylabel('Count')\n",
    "plt.show()"
   ]
  },
  {
   "cell_type": "code",
   "execution_count": null,
   "id": "9f39032a-e54a-4d3f-99fe-93d72d848187",
   "metadata": {},
   "outputs": [],
   "source": [
    "ox_pos = df['Modified sequence'].map(lambda x: np.array([m.start() for m in re.finditer('(ox)', x)]))"
   ]
  },
  {
   "cell_type": "code",
   "execution_count": null,
   "id": "944144ca-865e-4471-87cd-6f395951eb31",
   "metadata": {},
   "outputs": [],
   "source": [
    "all_prepends = []\n",
    "for pos, seq in zip(ox_pos, df['Modified sequence']):\n",
    "    if len(pos) == 0:\n",
    "        continue\n",
    "    all_prepends += list(np.array(list(seq))[pos-2])"
   ]
  },
  {
   "cell_type": "code",
   "execution_count": null,
   "id": "91e32415-2473-4b0b-94e3-b85aa95eb7b5",
   "metadata": {},
   "outputs": [],
   "source": [
    "np.unique(all_prepends, return_counts=True)"
   ]
  },
  {
   "cell_type": "markdown",
   "id": "f299aa41-65a8-4640-8e4f-fa9cbbaca205",
   "metadata": {},
   "source": [
    "We only have M as an oxidation prepend"
   ]
  },
  {
   "cell_type": "markdown",
   "id": "15a720b6-769d-4315-a9e1-60bde70eec5c",
   "metadata": {},
   "source": [
    "# Dataset V2\n",
    "\n",
    "### Loading dataset:"
   ]
  },
  {
   "cell_type": "markdown",
   "id": "d3eaffa6-a6f4-472b-b370-e33bf28b1a95",
   "metadata": {},
   "source": [
    "ToDo..."
   ]
  },
  {
   "cell_type": "code",
   "execution_count": null,
   "id": "0885b67a-ea28-4d45-b261-ee4f1a79b9ad",
   "metadata": {},
   "outputs": [],
   "source": []
  }
 ],
 "metadata": {
  "kernelspec": {
   "display_name": "Python 3 (ipykernel)",
   "language": "python",
   "name": "python3"
  },
  "language_info": {
   "codemirror_mode": {
    "name": "ipython",
    "version": 3
   },
   "file_extension": ".py",
   "mimetype": "text/x-python",
   "name": "python",
   "nbconvert_exporter": "python",
   "pygments_lexer": "ipython3",
   "version": "3.10.6"
  },
  "vscode": {
   "interpreter": {
    "hash": "e555382fb788da75b2452db9084d9bbff1960d3d69a3f0977f4bb50d946bc98c"
   }
  }
 },
 "nbformat": 4,
 "nbformat_minor": 5
}
