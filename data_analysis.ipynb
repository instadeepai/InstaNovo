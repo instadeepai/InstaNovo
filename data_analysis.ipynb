{
 "cells": [
  {
   "cell_type": "code",
   "execution_count": 54,
   "id": "66ef5b65-16eb-48dd-bf38-a0033df80df4",
   "metadata": {},
   "outputs": [],
   "source": [
    "import matplotlib.pyplot as plt\n",
    "import pandas as pd\n",
    "import numpy as np\n",
    "from tqdm import tqdm\n",
    "import re\n",
    "\n",
    "%matplotlib inline"
   ]
  },
  {
   "cell_type": "code",
   "execution_count": 2,
   "id": "86ba1fca-9541-4b53-bc8b-fe6444ae1e8f",
   "metadata": {},
   "outputs": [],
   "source": [
    "from dtu_denovo_sequencing.dataset import load_all"
   ]
  },
  {
   "cell_type": "markdown",
   "id": "aa4dd2c5-f308-482c-89f8-ca7daf3511e3",
   "metadata": {},
   "source": [
    "# Dataset V1\n",
    "\n",
    "### Loading dataset:"
   ]
  },
  {
   "cell_type": "code",
   "execution_count": 4,
   "id": "3b92fbcf-f930-48c3-a693-e65b319d915a",
   "metadata": {},
   "outputs": [
    {
     "name": "stderr",
     "output_type": "stream",
     "text": [
      "100%|█████████████████████████████████████████████████████████████████████████████████████████████████████████████████████████| 1008/1008 [00:43<00:00, 23.15it/s]\n"
     ]
    },
    {
     "data": {
      "text/plain": [
       "(2655403, 12)"
      ]
     },
     "execution_count": 4,
     "metadata": {},
     "output_type": "execute_result"
    }
   ],
   "source": [
    "path = './data/denovo_dataset_v1/'\n",
    "df = load_all(path)\n",
    "df.shape"
   ]
  },
  {
   "cell_type": "code",
   "execution_count": 5,
   "id": "fa96823e-e469-47a1-b777-3438643202c0",
   "metadata": {},
   "outputs": [
    {
     "data": {
      "text/html": [
       "<div>\n",
       "<style scoped>\n",
       "    .dataframe tbody tr th:only-of-type {\n",
       "        vertical-align: middle;\n",
       "    }\n",
       "\n",
       "    .dataframe tbody tr th {\n",
       "        vertical-align: top;\n",
       "    }\n",
       "\n",
       "    .dataframe thead th {\n",
       "        text-align: right;\n",
       "    }\n",
       "</style>\n",
       "<table border=\"1\" class=\"dataframe\">\n",
       "  <thead>\n",
       "    <tr style=\"text-align: right;\">\n",
       "      <th></th>\n",
       "      <th>Evidence index</th>\n",
       "      <th>Scan Number</th>\n",
       "      <th>Sequence</th>\n",
       "      <th>Modified sequence</th>\n",
       "      <th>MS/MS m/z</th>\n",
       "      <th>m/z</th>\n",
       "      <th>Mass</th>\n",
       "      <th>Charge</th>\n",
       "      <th>Retention time</th>\n",
       "      <th>Mass values</th>\n",
       "      <th>Intensity</th>\n",
       "      <th>Normalized intensity</th>\n",
       "    </tr>\n",
       "  </thead>\n",
       "  <tbody>\n",
       "    <tr>\n",
       "      <th>0</th>\n",
       "      <td>0</td>\n",
       "      <td>33603</td>\n",
       "      <td>AAAAELSLLEK</td>\n",
       "      <td>_AAAAELSLLEK_</td>\n",
       "      <td>558.3188</td>\n",
       "      <td>558.318971</td>\n",
       "      <td>1114.62339</td>\n",
       "      <td>2</td>\n",
       "      <td>38.021</td>\n",
       "      <td>[100.27822875976562, 100.28643035888672, 100.3...</td>\n",
       "      <td>[230654.97, 39952.027, 76809.125, 8558.851, 25...</td>\n",
       "      <td>[0.008991628, 0.0015574509, 0.002994252, 0.000...</td>\n",
       "    </tr>\n",
       "    <tr>\n",
       "      <th>1</th>\n",
       "      <td>1</td>\n",
       "      <td>12659</td>\n",
       "      <td>AAAANIDEVQK</td>\n",
       "      <td>_AAAANIDEVQK_</td>\n",
       "      <td>565.2959</td>\n",
       "      <td>565.296027</td>\n",
       "      <td>1128.57750</td>\n",
       "      <td>2</td>\n",
       "      <td>20.152</td>\n",
       "      <td>[101.13959503173828, 101.82844543457031, 101.8...</td>\n",
       "      <td>[22993.088, 517718.72, 84582.305, 139626.16, 5...</td>\n",
       "      <td>[0.0007417011, 0.016700348, 0.0027284196, 0.00...</td>\n",
       "    </tr>\n",
       "    <tr>\n",
       "      <th>2</th>\n",
       "      <td>2</td>\n",
       "      <td>13715</td>\n",
       "      <td>AAAANIDEVQK</td>\n",
       "      <td>_AAAANIDEVQK_</td>\n",
       "      <td>565.2964</td>\n",
       "      <td>565.296027</td>\n",
       "      <td>1128.57750</td>\n",
       "      <td>2</td>\n",
       "      <td>21.014</td>\n",
       "      <td>[100.26371002197266, 100.71353149414062, 101.0...</td>\n",
       "      <td>[4932.054, 4110.7993, 5568.118, 15293.063, 122...</td>\n",
       "      <td>[0.0048124897, 0.004011144, 0.005433134, 0.014...</td>\n",
       "    </tr>\n",
       "  </tbody>\n",
       "</table>\n",
       "</div>"
      ],
      "text/plain": [
       "   Evidence index  Scan Number     Sequence Modified sequence  MS/MS m/z  \\\n",
       "0               0        33603  AAAAELSLLEK     _AAAAELSLLEK_   558.3188   \n",
       "1               1        12659  AAAANIDEVQK     _AAAANIDEVQK_   565.2959   \n",
       "2               2        13715  AAAANIDEVQK     _AAAANIDEVQK_   565.2964   \n",
       "\n",
       "          m/z        Mass  Charge  Retention time  \\\n",
       "0  558.318971  1114.62339       2          38.021   \n",
       "1  565.296027  1128.57750       2          20.152   \n",
       "2  565.296027  1128.57750       2          21.014   \n",
       "\n",
       "                                         Mass values  \\\n",
       "0  [100.27822875976562, 100.28643035888672, 100.3...   \n",
       "1  [101.13959503173828, 101.82844543457031, 101.8...   \n",
       "2  [100.26371002197266, 100.71353149414062, 101.0...   \n",
       "\n",
       "                                           Intensity  \\\n",
       "0  [230654.97, 39952.027, 76809.125, 8558.851, 25...   \n",
       "1  [22993.088, 517718.72, 84582.305, 139626.16, 5...   \n",
       "2  [4932.054, 4110.7993, 5568.118, 15293.063, 122...   \n",
       "\n",
       "                                Normalized intensity  \n",
       "0  [0.008991628, 0.0015574509, 0.002994252, 0.000...  \n",
       "1  [0.0007417011, 0.016700348, 0.0027284196, 0.00...  \n",
       "2  [0.0048124897, 0.004011144, 0.005433134, 0.014...  "
      ]
     },
     "execution_count": 5,
     "metadata": {},
     "output_type": "execute_result"
    }
   ],
   "source": [
    "df.head(3)"
   ]
  },
  {
   "cell_type": "markdown",
   "id": "28f4d2bc-5573-4b5b-ab64-20873be6cb99",
   "metadata": {},
   "source": [
    "## Dataset distributions\n",
    "Sequence length and Spectrum length"
   ]
  },
  {
   "cell_type": "code",
   "execution_count": 6,
   "id": "d0fefdb4-ac17-4cb9-a775-260ace741fc9",
   "metadata": {},
   "outputs": [
    {
     "data": {
      "image/png": "[encoded data removed]",
      "text/plain": [
       "<Figure size 936x288 with 2 Axes>"
      ]
     },
     "metadata": {
      "needs_background": "light"
     },
     "output_type": "display_data"
    }
   ],
   "source": [
    "fig, ax = plt.subplots(ncols=2, figsize=(13,4))\n",
    "\n",
    "seq_len = df['Sequence'].map(len)\n",
    "ax[0].hist(seq_len, bins=np.arange(seq_len.min(),40)-0.4, rwidth=0.1)\n",
    "ax[0].set_xlabel('Sequence length')\n",
    "ax[0].set_ylabel('Count')\n",
    "\n",
    "spec_len = df['Mass values'].map(len)\n",
    "ax[1].hist(spec_len, bins=np.arange(spec_len.min(),800)-0.4, rwidth=1)\n",
    "ax[1].set_xlabel('Spectrum length')\n",
    "ax[1].set_ylabel('Count')\n",
    "\n",
    "plt.show()"
   ]
  },
  {
   "cell_type": "markdown",
   "id": "9399785b-d6b6-4218-bff2-c8ea9404fdbb",
   "metadata": {},
   "source": [
    "Number of occurences per sequence"
   ]
  },
  {
   "cell_type": "code",
   "execution_count": 7,
   "id": "c374947e-ce4e-4d63-8ed0-a4f9cf7115ef",
   "metadata": {},
   "outputs": [
    {
     "data": {
      "image/png": "[encoded data removed]",
      "text/plain": [
       "<Figure size 432x288 with 1 Axes>"
      ]
     },
     "metadata": {
      "needs_background": "light"
     },
     "output_type": "display_data"
    },
    {
     "data": {
      "text/plain": [
       "'4252 out of 754638 unique sequences have more than 30 occurrences'"
      ]
     },
     "execution_count": 7,
     "metadata": {},
     "output_type": "execute_result"
    }
   ],
   "source": [
    "unique_counts = df['Sequence'].value_counts()\n",
    "plt.hist(unique_counts, bins=np.arange(1,30, 1)-0.4, rwidth=0.09)\n",
    "plt.xlabel('Sequence occurrences')\n",
    "plt.ylabel('Count')\n",
    "plt.show()\n",
    "f\"{(unique_counts>30).sum()} out of {unique_counts.shape[0]} unique sequences have more than 30 occurrences\""
   ]
  },
  {
   "cell_type": "markdown",
   "id": "ab7edb73-fc0a-4b9a-ba7e-ccf8f65a8e41",
   "metadata": {},
   "source": [
    "m/z and retention time distributions"
   ]
  },
  {
   "cell_type": "code",
   "execution_count": 8,
   "id": "4b81e1fc-59e3-455d-a0f2-d51bca4b772c",
   "metadata": {},
   "outputs": [
    {
     "data": {
      "image/png": "[encoded data removed]",
      "text/plain": [
       "<Figure size 936x288 with 2 Axes>"
      ]
     },
     "metadata": {
      "needs_background": "light"
     },
     "output_type": "display_data"
    }
   ],
   "source": [
    "fig, ax = plt.subplots(ncols=2, figsize=(13,4))\n",
    "\n",
    "mz = df['m/z']\n",
    "ax[0].hist(mz, bins=np.arange(mz.min(),mz.max(), 5)-0.4, rwidth=1)\n",
    "ax[0].set_xlabel('m/z')\n",
    "ax[0].set_ylabel('Count')\n",
    "\n",
    "rt = df['Retention time']\n",
    "ax[1].hist(rt, bins=np.arange(rt.min(),rt.max(), 0.25)-0.4, rwidth=1)\n",
    "ax[1].set_xlabel('Retention time')\n",
    "ax[1].set_ylabel('Count')\n",
    "\n",
    "plt.show()"
   ]
  },
  {
   "cell_type": "markdown",
   "id": "373d0827-a1bc-440f-b24b-2b60ecd75183",
   "metadata": {},
   "source": [
    "Amino acid frequency"
   ]
  },
  {
   "cell_type": "code",
   "execution_count": 40,
   "id": "7bc52c15-a965-4f23-8331-5013d5069ae2",
   "metadata": {},
   "outputs": [
    {
     "name": "stderr",
     "output_type": "stream",
     "text": [
      "100%|███████████████████████████████████████████████████████████████████████████████████████████████████████████████| 2655403/2655403 [00:06<00:00, 421581.01it/s]\n"
     ]
    },
    {
     "data": {
      "image/png": "[encoded data removed]",
      "text/plain": [
       "<Figure size 432x288 with 1 Axes>"
      ]
     },
     "metadata": {
      "needs_background": "light"
     },
     "output_type": "display_data"
    }
   ],
   "source": [
    "unique_aa = {}\n",
    "for seq in tqdm(df['Sequence']):\n",
    "    for c in seq:\n",
    "        if c in unique_aa: unique_aa[c] += 1\n",
    "        else: unique_aa[c] = 1\n",
    "\n",
    "plt.bar(unique_aa.keys(), unique_aa.values(), color=plt.colormaps.get('viridis')(np.arange(len(unique_aa))/len(unique_aa)))\n",
    "plt.ylabel('Count')\n",
    "plt.title('Amino acid frequency')\n",
    "plt.show()"
   ]
  },
  {
   "cell_type": "markdown",
   "id": "c2948f50-9fef-4724-aeba-1fd60442b710",
   "metadata": {},
   "source": [
    "## Amino acid oxidation modifications"
   ]
  },
  {
   "cell_type": "code",
   "execution_count": 43,
   "id": "c6b02312-965c-4c7a-afcd-0339338e8244",
   "metadata": {},
   "outputs": [
    {
     "data": {
      "text/plain": [
       "'Total oxidation count: 316579'"
      ]
     },
     "execution_count": 43,
     "metadata": {},
     "output_type": "execute_result"
    }
   ],
   "source": [
    "ox_count = df['Modified sequence'].map(lambda x: x.count('(ox)'))\n",
    "f\"Total oxidation count: {ox_count.sum()}\""
   ]
  },
  {
   "cell_type": "code",
   "execution_count": 53,
   "id": "927bdde2-edf4-4f34-bded-4dc1f8b2045f",
   "metadata": {},
   "outputs": [
    {
     "data": {
      "image/png": "[encoded data removed]",
      "text/plain": [
       "<Figure size 432x288 with 1 Axes>"
      ]
     },
     "metadata": {
      "needs_background": "light"
     },
     "output_type": "display_data"
    }
   ],
   "source": [
    "plt.hist(ox_count, bins=np.arange(0,ox_count.max()+1, 1)-0.5, rwidth=0.5)\n",
    "plt.title('Oxidation occurrences per sample')\n",
    "plt.ylabel('Count')\n",
    "plt.show()"
   ]
  },
  {
   "cell_type": "code",
   "execution_count": 56,
   "id": "9f39032a-e54a-4d3f-99fe-93d72d848187",
   "metadata": {},
   "outputs": [],
   "source": [
    "ox_pos = df['Modified sequence'].map(lambda x: np.array([m.start() for m in re.finditer('(ox)', x)]))"
   ]
  },
  {
   "cell_type": "code",
   "execution_count": 84,
   "id": "944144ca-865e-4471-87cd-6f395951eb31",
   "metadata": {},
   "outputs": [],
   "source": [
    "all_prepends = []\n",
    "for pos, seq in zip(ox_pos, df['Modified sequence']):\n",
    "    if len(pos) == 0:\n",
    "        continue\n",
    "    all_prepends += list(np.array(list(seq))[pos-2])"
   ]
  },
  {
   "cell_type": "code",
   "execution_count": 85,
   "id": "91e32415-2473-4b0b-94e3-b85aa95eb7b5",
   "metadata": {},
   "outputs": [
    {
     "data": {
      "text/plain": [
       "(array(['M'], dtype='<U1'), array([316579]))"
      ]
     },
     "execution_count": 85,
     "metadata": {},
     "output_type": "execute_result"
    }
   ],
   "source": [
    "np.unique(all_prepends, return_counts=True)"
   ]
  },
  {
   "cell_type": "markdown",
   "id": "f299aa41-65a8-4640-8e4f-fa9cbbaca205",
   "metadata": {},
   "source": [
    "We only have M as an oxidation prepend"
   ]
  },
  {
   "cell_type": "markdown",
   "id": "15a720b6-769d-4315-a9e1-60bde70eec5c",
   "metadata": {},
   "source": [
    "# Dataset V2\n",
    "\n",
    "### Loading dataset:"
   ]
  },
  {
   "cell_type": "markdown",
   "id": "d3eaffa6-a6f4-472b-b370-e33bf28b1a95",
   "metadata": {},
   "source": [
    "ToDo..."
   ]
  },
  {
   "cell_type": "code",
   "execution_count": null,
   "id": "0885b67a-ea28-4d45-b261-ee4f1a79b9ad",
   "metadata": {},
   "outputs": [],
   "source": []
  }
 ],
 "metadata": {
  "kernelspec": {
   "display_name": "Python 3 (ipykernel)",
   "language": "python",
   "name": "python3"
  },
  "language_info": {
   "codemirror_mode": {
    "name": "ipython",
    "version": 3
   },
   "file_extension": ".py",
   "mimetype": "text/x-python",
   "name": "python",
   "nbconvert_exporter": "python",
   "pygments_lexer": "ipython3",
   "version": "3.10.4"
  }
 },
 "nbformat": 4,
 "nbformat_minor": 5
}
